{
 "cells": [
  {
   "cell_type": "code",
   "execution_count": null,
   "id": "e69017a0-e4cd-4da7-ada7-97c9f7a3b234",
   "metadata": {},
   "outputs": [],
   "source": [
    "import manganite\n",
    "%load_ext manganite"
   ]
  },
  {
   "cell_type": "markdown",
   "id": "f2f43ac8-af09-4ab3-8375-aec6b322d0f7",
   "metadata": {},
   "source": [
    "# Facility Location Problem"
   ]
  },
  {
   "cell_type": "code",
   "execution_count": null,
   "id": "b5c6b522-cfaa-4818-83a8-79f55c7f3e39",
   "metadata": {},
   "outputs": [],
   "source": [
    "from math import sqrt\n",
    "import gurobipy as gp\n",
    "from gurobipy import GRB\n",
    "import seaborn as sns \n",
    "import matplotlib.pyplot as plt \n",
    "import numpy as np \n",
    "import pandas as pd \n",
    "from itertools import product\n",
    "import networkx as nx\n",
    "import networkx.generators.small as gs\n",
    "import matplotlib.pyplot as plt\n",
    "import plotly.express as px\n",
    "import geopandas as gpd\n",
    "from numpy.random import randint, binomial, uniform\n",
    "import string\n",
    "import random\n",
    "import plotly.graph_objects as go"
   ]
  },
  {
   "cell_type": "code",
   "execution_count": null,
   "id": "11f9b685-ca68-4bd9-a749-f7ef265865cf",
   "metadata": {},
   "outputs": [],
   "source": [
    "%%mnn widget --type table --var FACILITIES --tab Inputs --header Facilities\n",
    "FACILITIES = pd.read_csv(\"./Facilities.csv\")"
   ]
  },
  {
   "cell_type": "code",
   "execution_count": null,
   "id": "6ecdc653-b2b6-4663-a833-f74da6342e30",
   "metadata": {},
   "outputs": [],
   "source": [
    "%%mnn widget --type table --var CUSTOMERS --tab Inputs --header Customers\n",
    "CUSTOMERS = pd.read_csv(\"./Customers.csv\")"
   ]
  },
  {
   "cell_type": "code",
   "execution_count": null,
   "id": "fae32b22-f14e-4b8a-a9f9-3136b6f0921c",
   "metadata": {},
   "outputs": [],
   "source": [
    "#Parameter setting\n",
    "customers = CUSTOMERS.set_index('Customer').drop(columns=['demand']).T.to_dict('list')\n",
    "facilities = FACILITIES.set_index('Facility').drop(columns=['opening_cost', 'capacity', 'cost_per_km']).T.to_dict('list')\n",
    "opening_cost = FACILITIES['opening_cost'].to_list()\n",
    "cost_per_km = FACILITIES['cost_per_km'].dropna()[0]\n",
    "demand = CUSTOMERS['demand'].to_list()\n",
    "capacity = FACILITIES['capacity'].to_list()"
   ]
  },
  {
   "cell_type": "code",
   "execution_count": null,
   "id": "23dfc7cb-5494-46f0-9d0e-709252d806a7",
   "metadata": {},
   "outputs": [],
   "source": [
    "# Compute key parameters of MIP model formulation\n",
    "FACILITIES_ = pd.DataFrame.from_dict(facilities, orient='index', columns =['x_fac', 'y_fac'])\n",
    "CUSTOMERS_ = pd.DataFrame.from_dict(customers, orient='index', columns =['x_cus', 'y_cus'])\n",
    "lon_fac = FACILITIES_.x_fac\n",
    "lat_fac = FACILITIES_.y_fac\n",
    "lon_cus = CUSTOMERS_.x_cus\n",
    "lat_cus = CUSTOMERS_.y_cus\n",
    "\n",
    "num_facilities = len(FACILITIES_)\n",
    "num_customers = len(CUSTOMERS_)\n",
    "CF = list(product(range(num_customers), range(num_facilities))) #cartesian product for indexing\n",
    "\n",
    "#Lists for dictionaries for plotting\n",
    "fac_key_list=list(facilities.keys())\n",
    "fac_val_list=list(facilities.values())\n",
    "cus_key_list=list(customers.keys())\n",
    "cus_val_list=list(customers.values())\n",
    "\n",
    "# Compute distance between facility and customer\n",
    "## This function determines the Euclidean distance between a facility and customer sites.\n",
    "def distance_computation(location_1, location_2):\n",
    "    d_x = location_1[0] - location_2[0]\n",
    "    d_y = location_1[1] - location_2[1]\n",
    "    return sqrt(d_x*d_x + d_y*d_y)\n",
    "DISTANCE = np.array([distance_computation(list(customers.values())[c], list(facilities.values())[f]) for c, f in CF]).reshape(num_customers,num_facilities)"
   ]
  },
  {
   "cell_type": "code",
   "execution_count": null,
   "id": "7ba41937-d2a2-4155-85d6-4d15df8327ba",
   "metadata": {},
   "outputs": [],
   "source": [
    "%%mnn execute --on button Optimize --returns shipments\n",
    "# MIP  model formulation\n",
    "def check_status(status):\n",
    "    if status == GRB.OPTIMAL:\n",
    "        return\n",
    "    elif status == GRB.INF_OR_UNBD:\n",
    "        raise RuntimeError('Model is infeasible or unbounded')\n",
    "    elif status == GRB.INFEASIBLE:\n",
    "        raise RuntimeError('Model is infeasible')\n",
    "    elif status == GRB.UNBOUNDED:\n",
    "        raise RuntimeError('Model is unbounded')\n",
    "    else:\n",
    "        raise RuntimeError('Optimization ended with status %s' % status)\n",
    "        \n",
    "def MIP_model(with_capacity=None, delete_facility=None, delete_facility_2=None, delete_facility_3=None):\n",
    "    m = gp.Model('Facility Location Problem (Demand Satisfaction)')\n",
    "    m.Params.LogToConsole = 0\n",
    "    \n",
    "    #Decision Variables\n",
    "    y = m.addVars(num_facilities, vtype=GRB.BINARY, name='Select')\n",
    "    x = m.addVars(CF, vtype=GRB.CONTINUOUS, name='Assign')\n",
    "\n",
    "    #Constraints        \n",
    "    m.addConstrs((x[(c,f)] <= demand[c]*y[f] for c in range(num_customers) for f in range(num_facilities)),\n",
    "                 name='Serve if open')\n",
    "    m.addConstrs((gp.quicksum(x[(c,f)] for f in range(num_facilities)) == demand[c] for c in range(num_customers)),\n",
    "                 name='Demand satisfaction')\n",
    "    \n",
    "    if with_capacity==1:\n",
    "        m.addConstrs((gp.quicksum(x[(c,f)] for c in range(num_customers)) <= capacity[f]*y[f] for f in range(num_facilities)),\n",
    "             name='Capacity satisfaction')\n",
    "    \n",
    "    if delete_facility is not None:\n",
    "        m.addConstr(y[delete_facility] == 0, name='Remove a candidate facility')\n",
    "    if delete_facility_2 is not None:\n",
    "        m.addConstr(y[delete_facility_2] == 0, name='Remove another candidate facility')\n",
    "    if delete_facility_3 is not None:\n",
    "        m.addConstr(y[delete_facility_3] == 0, name='Remove a 3rd candidate facility')\n",
    "\n",
    "    #Objective Function\n",
    "    m.setObjective(gp.quicksum(y[i]*opening_cost[i] for i in range(num_facilities))\n",
    "                   + gp.quicksum(x[(c,f)]*DISTANCE[c][f]*cost_per_km for f in range(num_facilities) for c in range(num_customers)), GRB.MINIMIZE)\n",
    "    \n",
    "    # check_status(m.status)\n",
    "    m.optimize()\n",
    "    \n",
    "    ## Solution for y[f]\n",
    "    open_facilities = np.zeros(num_facilities)\n",
    "    for facility in y.keys():\n",
    "        if (abs(y[facility].x) > 1e-6):\n",
    "            open_facilities[facility] = y[facility].x\n",
    "        else:\n",
    "            open_facilities[facility] = 0\n",
    "    \n",
    "    ## Solution for x[c,f]\n",
    "    cost_fac = np.zeros((num_customers, num_facilities))\n",
    "    shipments = np.zeros((num_customers, num_facilities))\n",
    "    for c, f in x.keys():\n",
    "        if (abs(x[c, f].x) > 1e-6):\n",
    "            shipments[c,f] = x[c, f].x\n",
    "            cost_fac[c,f] = 1\n",
    "        else:\n",
    "            shipments[c,f] = 0\n",
    "            cost_fac[c,f] = 0\n",
    "    \n",
    "    return m.ObjVal, open_facilities, shipments, cost_fac\n",
    "\n",
    "ObjVal, open_facilities, shipments, cost_fac = MIP_model()"
   ]
  },
  {
   "cell_type": "code",
   "execution_count": null,
   "id": "8ac97172-53d3-4477-bd66-e7a916ecbc14",
   "metadata": {},
   "outputs": [],
   "source": [
    "%%mnn widget --type plot --var customers_by_facilities --tab Report --header \"Customers served by facility\"\n",
    "df = pd.DataFrame(shipments, columns=fac_key_list)\n",
    "customers_by_facilities = px.bar(df.T.rename_axis('Facilities'), barmode='stack')"
   ]
  },
  {
   "cell_type": "code",
   "execution_count": null,
   "id": "d229fa1d-551f-464d-8b04-63c6a9caa0b2",
   "metadata": {},
   "outputs": [],
   "source": [
    "%%mnn widget --type plot --var heatmap --tab Report --header \"Heatmap of opened facilities\"\n",
    "heatmap = plt.figure(figsize=(12,3))\n",
    "sns.set_style(\"whitegrid\")\n",
    "ax = sns.heatmap(shipments, linewidth=0.5, xticklabels=1, yticklabels=1, cmap=\"Purples\")\n",
    "plt.xticks(np.arange(num_facilities), labels=fac_key_list)\n",
    "plt.xlabel(\"Facilities\", fontsize = 20)\n",
    "plt.ylabel(\"Customers\", fontsize = 20)"
   ]
  },
  {
   "cell_type": "code",
   "execution_count": null,
   "id": "11364bcd-d59a-4dd6-b5b3-f3c7e39dd4aa",
   "metadata": {},
   "outputs": [],
   "source": [
    "np.seterr('ignore')\n",
    "shipments_cost = shipments*DISTANCE*cost_per_km\n",
    "opencost_percus = np.where(np.isnan((cost_fac*opening_cost)/sum(cost_fac)), 0, (cost_fac*opening_cost)/sum(cost_fac))\n",
    "cost_per_customer = (opencost_percus+shipments_cost)"
   ]
  },
  {
   "cell_type": "code",
   "execution_count": null,
   "id": "98a2a7bd-533a-413d-a671-946812166757",
   "metadata": {},
   "outputs": [],
   "source": [
    "%%mnn widget --type plot --var cpc_chart --tab Report --header \"Overall cost per customer\"\n",
    "df_total = pd.DataFrame(cost_per_customer)\n",
    "cpc_chart = px.bar(df_total.rename_axis('Customers').set_axis(fac_key_list, axis=1))"
   ]
  },
  {
   "cell_type": "code",
   "execution_count": null,
   "id": "cd034f42-acb3-4408-aa17-3882a76866c9",
   "metadata": {},
   "outputs": [],
   "source": [
    "%%mnn widget --type plot --var fcpc_chart --tab Report --header \"Facility cost per customer\"\n",
    "df_facility = pd.DataFrame(opencost_percus)\n",
    "fcpc_chart = px.bar(df_facility.rename_axis('Customers').set_axis(fac_key_list, axis=1))"
   ]
  }
 ],
 "metadata": {
  "kernelspec": {
   "display_name": "Python 3 (ipykernel)",
   "language": "python",
   "name": "python3"
  },
  "language_info": {
   "codemirror_mode": {
    "name": "ipython",
    "version": 3
   },
   "file_extension": ".py",
   "mimetype": "text/x-python",
   "name": "python",
   "nbconvert_exporter": "python",
   "pygments_lexer": "ipython3",
   "version": "3.9.0"
  }
 },
 "nbformat": 4,
 "nbformat_minor": 5
}
