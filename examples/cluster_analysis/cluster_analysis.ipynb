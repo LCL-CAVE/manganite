{
 "cells": [
  {
   "cell_type": "code",
   "execution_count": null,
   "metadata": {},
   "outputs": [],
   "source": [
    "import manganite\n",
    "%load_ext manganite"
   ]
  },
  {
   "cell_type": "markdown",
   "metadata": {},
   "source": [
    "# Cluster Analysis Dashboard\n",
    "\n",
    "## Overview\n",
    "\n",
    "Welcome to the Cluster Analysis Dashboard! This interactive dashboard allows you to perform cluster analysis on the Iris dataset using various clustering algorithms from the Scikit-learn library. You can customize the number of clusters and choose from different clustering methods to explore patterns within the dataset.\n",
    "\n",
    "## Features\n",
    "\n",
    "### Dataset Selection\n",
    "\n",
    "- **Dataset**: The dashboard is preloaded with the Iris dataset, a popular dataset for clustering tasks. You can use this dataset to perform clustering analysis.\n",
    "\n",
    "### Clustering Options\n",
    "\n",
    "- **Number of Clusters**: You can specify the number of clusters you want to create. Adjust this parameter based on your analysis goals and insights you want to gain from the data.\n",
    "\n",
    "- **Clustering Algorithm**: You have the option to choose from various clustering algorithms available in Scikit-learn, including K-Means, Spectral Clustering and Agglomerative Clustering. Each algorithm has its own strengths and is suitable for different types of data.\n",
    "\n",
    "### Visualization\n",
    "\n",
    "- **Scatter Plot**: For visualization, a scatter plot is available. You can choose which features to use as axes for the scatter plot to visualize the clusters effectively.\n",
    "\n",
    "\n",
    "## Getting Started\n",
    "\n",
    "1. **Dataset**: The Iris dataset is loaded by default, but you can upload your dataset if needed.\n",
    "\n",
    "2. **Choose Clustering Options**: Select the number of clusters and the clustering algorithm of your choice from the dropdown menus.\n",
    "\n",
    "3. **Visualize Clusters**: Click the \"Cluster\" button to generate a scatter plot with customizable axes for cluster visualization.\n",
    "\n",
    "## Technologies Used\n",
    "\n",
    "- **Python**: The dashboard is built using Python.\n",
    "- **Manganinte**: Manganinte is the Python library used to create the interactive dashboard.\n",
    "- **Scikit-learn**: Scikit-learn is used to perform the clustering analysis.\n",
    "\n",
    "## Note\n",
    "\n",
    "Ensure you have the required Python libraries installed, including Scikit-learn and Manganinte, to run this dashboard successfully."
   ]
  },
  {
   "cell_type": "code",
   "execution_count": null,
   "metadata": {},
   "outputs": [],
   "source": [
    "import numpy as np\n",
    "import pandas as pd\n",
    "import panel as pn\n",
    "\n",
    "from sklearn.cluster import KMeans, DBSCAN, AgglomerativeClustering, SpectralClustering\n",
    "from bokeh.sampledata import iris\n",
    "\n",
    "import plotly.express as px"
   ]
  },
  {
   "cell_type": "code",
   "execution_count": null,
   "metadata": {},
   "outputs": [],
   "source": [
    "flowers = iris.flowers.copy()\n",
    "cols = list(flowers.columns)[:-1]"
   ]
  },
  {
   "cell_type": "code",
   "execution_count": null,
   "metadata": {},
   "outputs": [],
   "source": [
    "%%mnn widget --type slider 2:6:1 --tab \"Demo\" --header \"number of clusters\" --var n_clusters --position 0 0 3\n",
    "n_clusters = 3"
   ]
  },
  {
   "cell_type": "code",
   "execution_count": null,
   "metadata": {},
   "outputs": [],
   "source": [
    "clustering_algos = ['K-Means', 'Spectral Clustering', 'Agglomerative Clustering']"
   ]
  },
  {
   "cell_type": "code",
   "execution_count": null,
   "metadata": {},
   "outputs": [],
   "source": [
    "%%mnn widget --type select clustering_algos --tab \"Demo\" --header \"Clustering Algorithm\" --var algo --position 0 3 3\n",
    "algo = clustering_algos[0]"
   ]
  },
  {
   "cell_type": "code",
   "execution_count": null,
   "metadata": {},
   "outputs": [],
   "source": [
    "%%mnn widget --type select list_of_options --tab \"Demo\" --header \"X-axis\" --var x --position 1 0 3\n",
    "x = pn.widgets.Select(name='x', options=cols)"
   ]
  },
  {
   "cell_type": "code",
   "execution_count": null,
   "metadata": {},
   "outputs": [],
   "source": [
    "%%mnn widget --type select list_of_options --tab \"Demo\" --header \"Y-axis\" --var y --position 1 3 3\n",
    "y = pn.widgets.Select(name='y', options=cols, value='sepal_width')"
   ]
  },
  {
   "cell_type": "code",
   "execution_count": null,
   "metadata": {},
   "outputs": [],
   "source": [
    "%%mnn execute --on button \"Cluster\" --tab \"Demo\"  --returns flowers \n",
    "\n",
    "if algo == 'K-Means':\n",
    "    model = KMeans(n_clusters=n_clusters, n_init='auto')\n",
    "elif algo == 'Spectral Clustering':\n",
    "    model = SpectralClustering(n_clusters=n_clusters)\n",
    "elif algo == 'Agglomerative Clustering':\n",
    "    model = AgglomerativeClustering(n_clusters=n_clusters)\n",
    "\n",
    "est = model.fit(iris.flowers.iloc[:, :-1].values)\n",
    "\n",
    "flowers['labels'] = est.labels_.astype('str')\n",
    "print('Clustering done')"
   ]
  },
  {
   "cell_type": "code",
   "execution_count": null,
   "metadata": {},
   "outputs": [],
   "source": [
    "%%mnn widget --type plot --var cluster_scatter --tab \"Demo\" --position 3 0 3 --header \"Clustered Data\"\n",
    "cluster_scatter = px.scatter(flowers, x=x, y=y, color = 'labels', title=f\"{n_clusters} clusters using {algo} algorithm\")"
   ]
  }
 ],
 "metadata": {
  "kernelspec": {
   "display_name": "manganite-env",
   "language": "python",
   "name": "python3"
  },
  "language_info": {
   "codemirror_mode": {
    "name": "ipython",
    "version": 3
   },
   "file_extension": ".py",
   "mimetype": "text/x-python",
   "name": "python",
   "nbconvert_exporter": "python",
   "pygments_lexer": "ipython3",
   "version": "3.11.4"
  },
  "orig_nbformat": 4
 },
 "nbformat": 4,
 "nbformat_minor": 2
}
