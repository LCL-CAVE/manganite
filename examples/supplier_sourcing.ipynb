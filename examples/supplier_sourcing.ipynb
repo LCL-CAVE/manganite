{
 "cells": [
  {
   "cell_type": "code",
   "execution_count": null,
   "id": "5b2c5e28-536f-4c1a-8ce0-5c84ded8a004",
   "metadata": {},
   "outputs": [],
   "source": [
    "import manganite\n",
    "%load_ext manganite"
   ]
  },
  {
   "cell_type": "markdown",
   "id": "51d97e7d-0375-4350-bd1d-e54a1b13142b",
   "metadata": {},
   "source": [
    "# Supplier Sourcing\n",
    "\n",
    "We will now formulate and solve a supplier sourcing problem.\n",
    "\n",
    "New Bedford Steel (NBS) procures coking coal to produce steel. For next year’s\n",
    "production, NBS has solicited the following bids from eight different coal mines:\n",
    "\n",
    "<pre>\n",
    "$$\n",
    "\\begin{array}{c | cccccccc}\n",
    "\\hline\n",
    "\\hline\n",
    " & Ashley & Bedfort & Consol &Dunby &Earlam &Florence &Gaston &Hopt \\\\\n",
    "\\hline\n",
    "Price (\\$/mt) & 49,500 & 50,000 & 61,000 &63,500 &66,500 &71,000 &72,500 &80,000  \\\\\n",
    "Union? & yes & yes & no & yes &no &yes &no &no \\\\\n",
    "Transport & rail & truck & rail &truck &truck &truck &rail &rail \\\\\n",
    "Volatility (percentage) & 15 & 16 & 18 & 20 &21 &22 &23 &25 \\\\\n",
    "Capacity (mt/yr) &300 &600 &510 &655 &575 &680 &450 &490 \\\\\n",
    "\\hline\n",
    "\\hline\n",
    "\\end{array}\n",
    "$$\n",
    "</pre>\n",
    "\n",
    "NBS wants to procure 1,225mt of coking coal with an average volatility of at least 19%. To avert adverse labour relations, at least 50% of the coal should come from union mines. Moreover, at most 650mt (720mt) can be transported via rail (trucks).\n",
    "\n",
    "*   How much should NBS procure from each mine so as to minimize total costs?\n",
    "*   What are the total costs? What are the average costs per mt?"
   ]
  },
  {
   "cell_type": "code",
   "execution_count": null,
   "id": "0cd49f83-15ef-49d4-b2dc-a69b317370c0",
   "metadata": {},
   "outputs": [],
   "source": [
    "import cvxpy as cp\n",
    "import numpy as np\n",
    "import pandas as pd\n",
    "import plotly.express as px"
   ]
  },
  {
   "cell_type": "code",
   "execution_count": null,
   "id": "aa47c99f-a04b-4fca-a265-845ada209915",
   "metadata": {},
   "outputs": [],
   "source": [
    "%%mnn widget --type table --var supplier_df --tab Inputs --header Suppliers\n",
    "supplier_df = pd.read_excel('SupplierSourcing.xlsx',index_col=0)"
   ]
  },
  {
   "cell_type": "code",
   "execution_count": null,
   "id": "51ec53e2-327a-46cf-b0af-aa2f4f6ce80a",
   "metadata": {},
   "outputs": [],
   "source": [
    "%%mnn widget --type plot --var cap_chart --tab Inputs --header Capacities\n",
    "cap_chart = px.bar(\n",
    "    data_frame = (supplier_df\n",
    "                  .reset_index()\n",
    "                  .melt(id_vars=\"index\")\n",
    "                  .loc[lambda x:x[\"index\"]==\"Capacity (mt/yr)\"]),\n",
    "    x=\"variable\", \n",
    "    y=\"value\", \n",
    "    labels={\"variable\":\"Supplier\",\"value\":\"Capacity\"}, \n",
    "    template=\"plotly_white\"\n",
    ")"
   ]
  },
  {
   "cell_type": "code",
   "execution_count": null,
   "id": "ede3b0b0-4500-4fe2-b9c1-91406f3c93a2",
   "metadata": {},
   "outputs": [],
   "source": [
    "supplierdata = supplier_df.to_numpy() #dataframe to numpy array\n",
    "n = len(supplierdata[0]) #number of suppliers\n",
    "p = (supplierdata[0,:]) #prices\n",
    "u = (supplierdata[1,:]) #whether from union\n",
    "t = (supplierdata[2,:]) #whether rail transportation\n",
    "v = (supplierdata[3,:]) #volatility\n",
    "c = (supplierdata[4,:]) #capacities\n",
    "\n",
    "x = cp.Variable(n)"
   ]
  },
  {
   "cell_type": "code",
   "execution_count": null,
   "id": "6c76877d-23c2-40e3-b0a2-58b29dda5389",
   "metadata": {
    "editable": true,
    "slideshow": {
     "slide_type": ""
    },
    "tags": []
   },
   "outputs": [],
   "source": [
    "%%mnn widget --type slider 0:2000:1 --var sum --tab Inputs --position -1 0 6 --header Sum\n",
    "sum = 1225"
   ]
  },
  {
   "cell_type": "code",
   "execution_count": null,
   "id": "b80674d6-254b-4ee1-9fe3-af7becda682c",
   "metadata": {
    "editable": true,
    "slideshow": {
     "slide_type": ""
    },
    "tags": []
   },
   "outputs": [],
   "source": [
    "%%mnn execute --on button \"Optimize\" --returns x\n",
    "objective = cp.Minimize(p@x)\n",
    "\n",
    "constraints = [cp.sum(x) == sum]\n",
    "constraints.append(v@x >= (0.19)*cp.sum(x))\n",
    "constraints.append(u@x >= (1/2)*cp.sum(x))\n",
    "constraints.append(t@x <= 650)\n",
    "constraints.append((1-t)@x <= 720)\n",
    "constraints.append(x[:] <= c[:])\n",
    "constraints.append(x >= 0)\n",
    "\n",
    "prob = cp.Problem(objective, constraints)\n",
    "prob.solve(solver=cp.GUROBI)"
   ]
  },
  {
   "cell_type": "code",
   "execution_count": null,
   "id": "4f1a4530-9084-40b8-9748-94929768252e",
   "metadata": {},
   "outputs": [],
   "source": [
    "%%mnn widget --type plot --var sol_chart --tab Results --header Solution\n",
    "sol_chart = px.bar(data_frame=pd.DataFrame(\n",
    "    {\"Suppliers\":supplier_df.columns,\n",
    "     \"Order volume\": x.value}),\n",
    "       x=\"Suppliers\",\n",
    "       y=\"Order volume\",\n",
    "       template=\"plotly_white\")"
   ]
  }
 ],
 "metadata": {
  "kernelspec": {
   "display_name": "Python 3 (ipykernel)",
   "language": "python",
   "name": "python3"
  },
  "language_info": {
   "codemirror_mode": {
    "name": "ipython",
    "version": 3
   },
   "file_extension": ".py",
   "mimetype": "text/x-python",
   "name": "python",
   "nbconvert_exporter": "python",
   "pygments_lexer": "ipython3",
   "version": "3.9.0"
  }
 },
 "nbformat": 4,
 "nbformat_minor": 5
}
