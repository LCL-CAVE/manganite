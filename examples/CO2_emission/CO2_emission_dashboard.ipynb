{
 "cells": [
  {
   "cell_type": "code",
   "execution_count": null,
   "metadata": {},
   "outputs": [],
   "source": [
    "import manganite\n",
    "%load_ext manganite"
   ]
  },
  {
   "cell_type": "markdown",
   "metadata": {},
   "source": [
    "# CO2 Emission Dashboard\n",
    "\n",
    "## Overview\n",
    "This CO2 emission dashboard provides valuable insights into global carbon dioxide emissions. It features three distinct plots that help users explore emissions data by continents and countries. Additionally, it allows users to filter emissions by their source type. \n",
    "\n",
    "## Plots\n",
    "\n",
    "### Plot 1: CO2 Emission Over Time (Continents)\n",
    "- **Description:** This line plot illustrates the trends in CO2 emissions over time for different continents.\n",
    "\n",
    "### Plot 2: CO2 Emission vs. GDP per Capita (Countries)\n",
    "- **Description:** This scatter plot allows users to explore the relationship between CO2 emissions and GDP per capita for individual countries.\n",
    "\n",
    "### Plot 3: CO2 Emission by Continent (Filtered by Source)\n",
    "- **Description:** This bar chart provides a breakdown of CO2 emissions for each continent, allowing users to filter emissions by source type.\n",
    "\n",
    "## Technologies Used\n",
    "- Programming Language: Python\n",
    "- Data Visualization Library: Plotly\n",
    "\n",
    "## Data Source\n",
    "The data used in this dashboard is sourced from [Our World in Data](https://ourworldindata.org).\n",
    "\n",
    "## GitHub Repository\n",
    "This project is based on the following GitHub repository: [GitHub Repo](https://github.com/thu-vu92/python-dashboard-panel/tree/main)\n",
    "\n",
    "Explore and analyze global CO2 emissions with this interactive dashboard. Select plots and filters to gain insights into the environmental impact and economic factors related to emissions worldwide.\n"
   ]
  },
  {
   "cell_type": "code",
   "execution_count": null,
   "metadata": {},
   "outputs": [],
   "source": [
    "# Import the Python packages\n",
    "import pandas as pd\n",
    "import numpy as np\n",
    "import plotly.express as px\n",
    "\n",
    "import plotly.io as pio \n",
    "pio.templates.default = 'plotly_white'"
   ]
  },
  {
   "cell_type": "code",
   "execution_count": 31,
   "metadata": {},
   "outputs": [],
   "source": [
    "try:\n",
    "    df = pd.read_csv('owid-co2-data.csv')\n",
    "except:\n",
    "    df = pd.read_csv('https://raw.githubusercontent.com/owid/co2-data/master/owid-co2-data.csv')"
   ]
  },
  {
   "cell_type": "code",
   "execution_count": null,
   "metadata": {},
   "outputs": [],
   "source": [
    "# Fill NAs with 0s and create GDP per capita column\n",
    "df = df.fillna(0)\n",
    "df['gdp_per_capita'] = np.where(df['population']!= 0, df['gdp']/ df['population'], 0)"
   ]
  },
  {
   "cell_type": "code",
   "execution_count": null,
   "metadata": {},
   "outputs": [],
   "source": [
    "#Add slider"
   ]
  },
  {
   "cell_type": "code",
   "execution_count": null,
   "metadata": {},
   "outputs": [],
   "source": [
    "%%mnn widget --type slider 1900:2015:5 --tab \"Emission\" --header \"Year\" --var year_slider --position 0 0 3\n",
    "year_slider = 2010"
   ]
  },
  {
   "cell_type": "code",
   "execution_count": null,
   "metadata": {},
   "outputs": [],
   "source": [
    "# add selector\n",
    "options=['co2', 'co2_per_capita']"
   ]
  },
  {
   "cell_type": "code",
   "execution_count": null,
   "metadata": {},
   "outputs": [],
   "source": [
    "%%mnn widget --type radio options --tab \"Emission\" --header \"Y - axis\" --var yaxis_co2 --position 0 3 2\n",
    "yaxis_co2 = options[0]"
   ]
  },
  {
   "cell_type": "code",
   "execution_count": null,
   "metadata": {},
   "outputs": [],
   "source": [
    "#  Continent Selector\n",
    "continents = ['World', 'Asia', 'Oceania', 'Europe', 'Africa', 'North America', 'South America', 'Antarctica']"
   ]
  },
  {
   "cell_type": "code",
   "execution_count": null,
   "metadata": {},
   "outputs": [],
   "source": [
    "%%mnn widget --type plot --var fig_0 --tab \"Emission\" --header \"Total CO2 Emission by continent\"\n",
    "# Adding chart 0\n",
    "df_0 = df[(df['year'] <= year_slider) & (df['year'] >= 1890) &  (df['country'].isin(continents))]\n",
    "fig_0 = px.line(df_0, x='year', y= yaxis_co2, color='country')\n"
   ]
  },
  {
   "cell_type": "code",
   "execution_count": null,
   "metadata": {},
   "outputs": [],
   "source": [
    "%%mnn widget --type plot --var fig_1     --tab \"Emission\" --header \"CO2(/capita) - GDP\"\n",
    "\n",
    "df_1 = df[(df['year'] == year_slider) &  (-df['country'].isin(continents)) & (df['gdp_per_capita'] != 0)& (df['co2_per_capita'] != 0)& (df['co2'] != 0)]\n",
    "fig_1 = px.scatter(df_1, x=\"gdp_per_capita\", y= yaxis_co2 , hover_data = \"country\", title = f'Year: {year_slider}')"
   ]
  },
  {
   "cell_type": "code",
   "execution_count": null,
   "metadata": {},
   "outputs": [],
   "source": [
    "emission_types=['coal_co2', 'oil_co2', 'gas_co2']"
   ]
  },
  {
   "cell_type": "code",
   "execution_count": null,
   "metadata": {},
   "outputs": [],
   "source": [
    "%%mnn widget --type select emission_types --tab \"Emission\" --header \"Select Emission Source\" --var source --position 2 3 1\n",
    "source = emission_types[0]"
   ]
  },
  {
   "cell_type": "code",
   "execution_count": null,
   "metadata": {},
   "outputs": [],
   "source": [
    "%%mnn widget --type plot --var fig_2  --tab \"Emission\" --header \"CO2 source by continent\"  --position 2 0 3\n",
    "\n",
    "df_2 = df[(df['year'] == year_slider) &  (df['country'].isin(continents))]\n",
    "\n",
    "fig_2 = px.bar(df_2, x='country' , y = source, title = f'Year: {year_slider}')"
   ]
  }
 ],
 "metadata": {
  "kernelspec": {
   "display_name": "manganite-env",
   "language": "python",
   "name": "python3"
  },
  "language_info": {
   "codemirror_mode": {
    "name": "ipython",
    "version": 3
   },
   "file_extension": ".py",
   "mimetype": "text/x-python",
   "name": "python",
   "nbconvert_exporter": "python",
   "pygments_lexer": "ipython3",
   "version": "3.11.4"
  },
  "orig_nbformat": 4
 },
 "nbformat": 4,
 "nbformat_minor": 2
}
